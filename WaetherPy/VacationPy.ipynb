{
 "cells": [
  {
   "cell_type": "markdown",
   "metadata": {},
   "source": [
    "# VacationPy\n",
    "----\n",
    "\n",
    "#### Note\n",
    "* Instructions have been included for each segment. You do not have to follow them exactly, but they are included to help you think through the steps."
   ]
  },
  {
   "cell_type": "code",
   "execution_count": 2,
   "metadata": {},
   "outputs": [],
   "source": [
    "# Dependencies and Setup\n",
    "import matplotlib.pyplot as plt\n",
    "import pandas as pd\n",
    "import numpy as np\n",
    "import requests\n",
    "import gmaps\n",
    "import os\n",
    "import json\n",
    "\n",
    "# Import API key\n",
    "from api_keys import g_key\n"
   ]
  },
  {
   "cell_type": "markdown",
   "metadata": {},
   "source": [
    "### Store Part I results into DataFrame\n",
    "* Load the csv exported in Part I to a DataFrame"
   ]
  },
  {
   "cell_type": "code",
   "execution_count": 3,
   "metadata": {},
   "outputs": [
    {
     "data": {
      "text/html": [
       "<div>\n",
       "<style scoped>\n",
       "    .dataframe tbody tr th:only-of-type {\n",
       "        vertical-align: middle;\n",
       "    }\n",
       "\n",
       "    .dataframe tbody tr th {\n",
       "        vertical-align: top;\n",
       "    }\n",
       "\n",
       "    .dataframe thead th {\n",
       "        text-align: right;\n",
       "    }\n",
       "</style>\n",
       "<table border=\"1\" class=\"dataframe\">\n",
       "  <thead>\n",
       "    <tr style=\"text-align: right;\">\n",
       "      <th></th>\n",
       "      <th>City</th>\n",
       "      <th>Cloudiness</th>\n",
       "      <th>Country</th>\n",
       "      <th>Date</th>\n",
       "      <th>Humidity</th>\n",
       "      <th>Lat</th>\n",
       "      <th>Lng</th>\n",
       "      <th>Max Temp</th>\n",
       "      <th>Wind Speed</th>\n",
       "    </tr>\n",
       "  </thead>\n",
       "  <tbody>\n",
       "    <tr>\n",
       "      <th>0</th>\n",
       "      <td>Saskylakh</td>\n",
       "      <td>0</td>\n",
       "      <td>RU</td>\n",
       "      <td>1578238656</td>\n",
       "      <td>95</td>\n",
       "      <td>71.97</td>\n",
       "      <td>114.09</td>\n",
       "      <td>-20.90</td>\n",
       "      <td>10.65</td>\n",
       "    </tr>\n",
       "    <tr>\n",
       "      <th>1</th>\n",
       "      <td>Mataura</td>\n",
       "      <td>100</td>\n",
       "      <td>NZ</td>\n",
       "      <td>1578238697</td>\n",
       "      <td>88</td>\n",
       "      <td>-46.19</td>\n",
       "      <td>168.86</td>\n",
       "      <td>51.01</td>\n",
       "      <td>15.99</td>\n",
       "    </tr>\n",
       "    <tr>\n",
       "      <th>2</th>\n",
       "      <td>Aginskoye</td>\n",
       "      <td>100</td>\n",
       "      <td>RU</td>\n",
       "      <td>1578238999</td>\n",
       "      <td>90</td>\n",
       "      <td>51.11</td>\n",
       "      <td>114.54</td>\n",
       "      <td>11.80</td>\n",
       "      <td>4.14</td>\n",
       "    </tr>\n",
       "    <tr>\n",
       "      <th>3</th>\n",
       "      <td>Mount Gambier</td>\n",
       "      <td>5</td>\n",
       "      <td>AU</td>\n",
       "      <td>1578238803</td>\n",
       "      <td>87</td>\n",
       "      <td>-37.83</td>\n",
       "      <td>140.78</td>\n",
       "      <td>48.20</td>\n",
       "      <td>8.05</td>\n",
       "    </tr>\n",
       "    <tr>\n",
       "      <th>4</th>\n",
       "      <td>Ulladulla</td>\n",
       "      <td>71</td>\n",
       "      <td>AU</td>\n",
       "      <td>1578238999</td>\n",
       "      <td>100</td>\n",
       "      <td>-35.36</td>\n",
       "      <td>150.48</td>\n",
       "      <td>62.60</td>\n",
       "      <td>4.70</td>\n",
       "    </tr>\n",
       "  </tbody>\n",
       "</table>\n",
       "</div>"
      ],
      "text/plain": [
       "            City  Cloudiness Country        Date  Humidity    Lat     Lng  \\\n",
       "0      Saskylakh           0      RU  1578238656        95  71.97  114.09   \n",
       "1        Mataura         100      NZ  1578238697        88 -46.19  168.86   \n",
       "2      Aginskoye         100      RU  1578238999        90  51.11  114.54   \n",
       "3  Mount Gambier           5      AU  1578238803        87 -37.83  140.78   \n",
       "4      Ulladulla          71      AU  1578238999       100 -35.36  150.48   \n",
       "\n",
       "   Max Temp  Wind Speed  \n",
       "0    -20.90       10.65  \n",
       "1     51.01       15.99  \n",
       "2     11.80        4.14  \n",
       "3     48.20        8.05  \n",
       "4     62.60        4.70  "
      ]
     },
     "execution_count": 3,
     "metadata": {},
     "output_type": "execute_result"
    }
   ],
   "source": [
    "# Output File (CSV)\n",
    "cities_df = pd.read_csv(\"../output_data/Weatherpy.csv\")\n",
    "cities_df = cities_df.drop(['Unnamed: 0'], axis=1)\n",
    "cities_df.head()"
   ]
  },
  {
   "cell_type": "markdown",
   "metadata": {},
   "source": [
    "### Humidity Heatmap\n",
    "* Configure gmaps.\n",
    "* Use the Lat and Lng as locations and Humidity as the weight.\n",
    "* Add Heatmap layer to map."
   ]
  },
  {
   "cell_type": "code",
   "execution_count": 4,
   "metadata": {},
   "outputs": [],
   "source": [
    "# Configure gmaps with API key\n",
    "gmaps.configure(api_key=g_key)"
   ]
  },
  {
   "cell_type": "code",
   "execution_count": 5,
   "metadata": {},
   "outputs": [],
   "source": [
    "#Save lat and lng as a dataframe\n",
    "locations = cities_df[['Lat','Lng']].astype(float)\n",
    "#Store humidity as array\n",
    "humidity = cities_df['Humidity'].astype(float)\n",
    "#Set Humidity as weight\n",
    "max_humidity = humidity.max()"
   ]
  },
  {
   "cell_type": "code",
   "execution_count": 6,
   "metadata": {},
   "outputs": [],
   "source": [
    "#Customize the size of the figure\n",
    "figure_layout = {\n",
    "    'width': '700px',\n",
    "    'height': '500px',\n",
    "    'border': '1px solid black',\n",
    "    'padding': '1px',\n",
    "    'margin': '0 auto 0 auto'\n",
    "}\n"
   ]
  },
  {
   "cell_type": "code",
   "execution_count": 7,
   "metadata": {},
   "outputs": [
    {
     "data": {
      "application/vnd.jupyter.widget-view+json": {
       "model_id": "ccfdab45a98a4531847fe6a1be50827e",
       "version_major": 2,
       "version_minor": 0
      },
      "text/plain": [
       "Figure(layout=FigureLayout(border='1px solid black', height='500px', margin='0 auto 0 auto', padding='1px', wi…"
      ]
     },
     "metadata": {},
     "output_type": "display_data"
    }
   ],
   "source": [
    "fig = gmaps.figure(layout=figure_layout)\n",
    "heat_layer = gmaps.heatmap_layer(locations, weights = humidity, dissipating=False, max_intensity=max_humidity, point_radius=3)\n",
    "fig.add_layer(heat_layer)\n",
    "fig"
   ]
  },
  {
   "cell_type": "markdown",
   "metadata": {},
   "source": [
    "### Create new DataFrame fitting weather criteria\n",
    "* Narrow down the cities to fit weather conditions.\n",
    "* Drop any rows will null values."
   ]
  },
  {
   "cell_type": "code",
   "execution_count": 8,
   "metadata": {},
   "outputs": [],
   "source": [
    "narrowed_df = cities_df.loc[(cities_df['Max Temp'] > 70) & (cities_df['Max Temp'] < 80) & (cities_df['Wind Speed'] < 10) & (cities_df['Cloudiness']== 0) ]\n",
    "narrowed_df = narrowed_df.dropna(how='any')\n",
    "narrowed_df = narrowed_df.reset_index()"
   ]
  },
  {
   "cell_type": "markdown",
   "metadata": {},
   "source": [
    "### Hotel Map\n",
    "* Store into variable named `hotel_df`.\n",
    "* Add a \"Hotel Name\" column to the DataFrame.\n",
    "* Set parameters to search for hotels with 5000 meters.\n",
    "* Hit the Google Places API for each city's coordinates.\n",
    "* Store the first Hotel result into the DataFrame.\n",
    "* Plot markers on top of the heatmap."
   ]
  },
  {
   "cell_type": "code",
   "execution_count": 9,
   "metadata": {},
   "outputs": [
    {
     "name": "stdout",
     "output_type": "stream",
     "text": [
      "Retrieving Results for Index 0: -21.57, 165.5.\n",
      "Retrieving Results for Index 1: 6.75, -11.37.\n",
      "Retrieving Results for Index 2: 8.0, 124.29.\n",
      "Retrieving Results for Index 3: 21.46, -71.14.\n",
      "Retrieving Results for Index 4: -28.77, 32.06.\n",
      "Retrieving Results for Index 5: 15.12, 104.33.\n",
      "Retrieving Results for Index 6: 18.74, 7.39.\n",
      "Retrieving Results for Index 7: -33.69, -53.46.\n",
      "Retrieving Results for Index 8: 14.89, 105.88.\n",
      "Retrieving Results for Index 9: 11.28, -15.83.\n",
      "-----------------\n"
     ]
    }
   ],
   "source": [
    "#Create a open list hotel\n",
    "hotel_df = []\n",
    "#Set the base URL\n",
    "base_url = \"https://maps.googleapis.com/maps/api/place/nearbysearch/json\"\n",
    "#Set up a parameters dictionary\n",
    "params = {\n",
    "    'types': 'Hotel',\n",
    "    'keyword': 'Lodging',\n",
    "    'radius': '5000',\n",
    "    'key': g_key\n",
    "}\n",
    "\n",
    "#Use iterrows to iterate through the pandas dataframe\n",
    "for index, row in narrowed_df.iterrows():\n",
    "    #Get location from df \n",
    "    lat =row[\"Lat\"]\n",
    "    lng = row[\"Lng\"]\n",
    "    #Update parameters dict. with lat. & long. info from the df \n",
    "    params[\"location\"] = f\"{lat},{lng}\"\n",
    "    #Assemebly url and make API request\n",
    "    print(f'Retrieving Results for Index {index}: {lat}, {lng}.')\n",
    "    response = requests.get(base_url, params=params).json()\n",
    "    results = response['results']\n",
    "    try:\n",
    "        hotel_df.append(results[0]['name'])\n",
    "        narrowed_df.loc[index, 'Hotel Name'] = results[0]['name']\n",
    "        \n",
    "    except (KeyError, IndexError):\n",
    "        print(\"Missing field/result.....skipping.\")\n",
    "        \n",
    "              \n",
    "print('-----------------') \n",
    "    \n",
    "                 "
   ]
  },
  {
   "cell_type": "code",
   "execution_count": 15,
   "metadata": {},
   "outputs": [],
   "source": [
    "narrowed_city_df = narrowed_df.dropna(how='any')\n",
    "narrowed_city_df = narrowed_city_df.drop(['index'], axis=1)\n",
    "hotel_df = narrowed_city_df"
   ]
  },
  {
   "cell_type": "code",
   "execution_count": 16,
   "metadata": {},
   "outputs": [],
   "source": [
    "# NOTE: Do not change any of the code in this cell\n",
    "\n",
    "# Using the template add the hotel marks to the heatmap\n",
    "info_box_template = \"\"\"\n",
    "<dl>\n",
    "<dt>Name</dt><dd>{Hotel Name}</dd>\n",
    "<dt>City</dt><dd>{City}</dd>\n",
    "<dt>Country</dt><dd>{Country}</dd>\n",
    "</dl>\n",
    "\"\"\"\n",
    "# Store the DataFrame Row\n",
    "# NOTE: be sure to update with your DataFrame name\n",
    "hotel_info = [info_box_template.format(**row) for index, row in narrowed_city_df.iterrows()]\n",
    "locations = hotel_df[[\"Lat\", \"Lng\"]]"
   ]
  },
  {
   "cell_type": "code",
   "execution_count": 17,
   "metadata": {},
   "outputs": [
    {
     "data": {
      "application/vnd.jupyter.widget-view+json": {
       "model_id": "ccfdab45a98a4531847fe6a1be50827e",
       "version_major": 2,
       "version_minor": 0
      },
      "text/plain": [
       "Figure(layout=FigureLayout(border='1px solid black', height='500px', margin='0 auto 0 auto', padding='1px', wi…"
      ]
     },
     "metadata": {},
     "output_type": "display_data"
    }
   ],
   "source": [
    "# Add marker layer ontop of heat map\n",
    "markers = gmaps.marker_layer(locations)\n",
    "fig.add_layer(markers)\n",
    "# Display Map\n",
    "fig"
   ]
  },
  {
   "cell_type": "code",
   "execution_count": null,
   "metadata": {},
   "outputs": [],
   "source": []
  }
 ],
 "metadata": {
  "kernelspec": {
   "display_name": "Python 3",
   "language": "python",
   "name": "python3"
  },
  "language_info": {
   "codemirror_mode": {
    "name": "ipython",
    "version": 3
   },
   "file_extension": ".py",
   "mimetype": "text/x-python",
   "name": "python",
   "nbconvert_exporter": "python",
   "pygments_lexer": "ipython3",
   "version": "3.6.9"
  },
  "latex_envs": {
   "LaTeX_envs_menu_present": true,
   "autoclose": false,
   "autocomplete": true,
   "bibliofile": "biblio.bib",
   "cite_by": "apalike",
   "current_citInitial": 1,
   "eqLabelWithNumbers": true,
   "eqNumInitial": 1,
   "hotkeys": {
    "equation": "Ctrl-E",
    "itemize": "Ctrl-I"
   },
   "labels_anchors": false,
   "latex_user_defs": false,
   "report_style_numbering": false,
   "user_envs_cfg": false
  }
 },
 "nbformat": 4,
 "nbformat_minor": 2
}
